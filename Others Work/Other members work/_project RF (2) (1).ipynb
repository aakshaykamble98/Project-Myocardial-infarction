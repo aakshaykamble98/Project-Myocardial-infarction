{
 "cells": [
  {
   "cell_type": "code",
   "execution_count": 24,
   "id": "123e6eac",
   "metadata": {
    "ExecuteTime": {
     "end_time": "2023-05-08T06:29:18.125245Z",
     "start_time": "2023-05-08T06:29:18.101223Z"
    }
   },
   "outputs": [],
   "source": [
    "import pandas as pd\n",
    "import numpy as np\n",
    "import matplotlib.pyplot as plt\n",
    "import seaborn as sns\n",
    " \n",
    "%matplotlib inline\n",
    "import warnings\n",
    "warnings.filterwarnings('ignore')"
   ]
  },
  {
   "cell_type": "code",
   "execution_count": 25,
   "id": "0da5eb95",
   "metadata": {
    "ExecuteTime": {
     "end_time": "2023-05-08T06:29:18.437039Z",
     "start_time": "2023-05-08T06:29:18.326840Z"
    }
   },
   "outputs": [
    {
     "data": {
      "text/html": [
       "<div>\n",
       "<style scoped>\n",
       "    .dataframe tbody tr th:only-of-type {\n",
       "        vertical-align: middle;\n",
       "    }\n",
       "\n",
       "    .dataframe tbody tr th {\n",
       "        vertical-align: top;\n",
       "    }\n",
       "\n",
       "    .dataframe thead th {\n",
       "        text-align: right;\n",
       "    }\n",
       "</style>\n",
       "<table border=\"1\" class=\"dataframe\">\n",
       "  <thead>\n",
       "    <tr style=\"text-align: right;\">\n",
       "      <th></th>\n",
       "      <th>AGE</th>\n",
       "      <th>SEX</th>\n",
       "      <th>INF_ANAM</th>\n",
       "      <th>STENOK_AN</th>\n",
       "      <th>FK_STENOK</th>\n",
       "      <th>IBS_POST</th>\n",
       "      <th>IBS_NASL</th>\n",
       "      <th>GB</th>\n",
       "      <th>SIM_GIPERT</th>\n",
       "      <th>DLIT_AG</th>\n",
       "      <th>...</th>\n",
       "      <th>JELUD_TAH</th>\n",
       "      <th>FIBR_JELUD</th>\n",
       "      <th>A_V_BLOK</th>\n",
       "      <th>OTEK_LANC</th>\n",
       "      <th>RAZRIV</th>\n",
       "      <th>DRESSLER</th>\n",
       "      <th>ZSN</th>\n",
       "      <th>REC_IM</th>\n",
       "      <th>P_IM_STEN</th>\n",
       "      <th>LET_IS</th>\n",
       "    </tr>\n",
       "    <tr>\n",
       "      <th>ID</th>\n",
       "      <th></th>\n",
       "      <th></th>\n",
       "      <th></th>\n",
       "      <th></th>\n",
       "      <th></th>\n",
       "      <th></th>\n",
       "      <th></th>\n",
       "      <th></th>\n",
       "      <th></th>\n",
       "      <th></th>\n",
       "      <th></th>\n",
       "      <th></th>\n",
       "      <th></th>\n",
       "      <th></th>\n",
       "      <th></th>\n",
       "      <th></th>\n",
       "      <th></th>\n",
       "      <th></th>\n",
       "      <th></th>\n",
       "      <th></th>\n",
       "      <th></th>\n",
       "    </tr>\n",
       "  </thead>\n",
       "  <tbody>\n",
       "    <tr>\n",
       "      <th>1</th>\n",
       "      <td>77.0</td>\n",
       "      <td>1</td>\n",
       "      <td>2.0</td>\n",
       "      <td>1.0</td>\n",
       "      <td>1.0</td>\n",
       "      <td>2.0</td>\n",
       "      <td>NaN</td>\n",
       "      <td>3.0</td>\n",
       "      <td>0.0</td>\n",
       "      <td>7.0</td>\n",
       "      <td>...</td>\n",
       "      <td>0</td>\n",
       "      <td>0</td>\n",
       "      <td>0</td>\n",
       "      <td>0</td>\n",
       "      <td>0</td>\n",
       "      <td>0</td>\n",
       "      <td>0</td>\n",
       "      <td>0</td>\n",
       "      <td>0</td>\n",
       "      <td>0</td>\n",
       "    </tr>\n",
       "    <tr>\n",
       "      <th>2</th>\n",
       "      <td>55.0</td>\n",
       "      <td>1</td>\n",
       "      <td>1.0</td>\n",
       "      <td>0.0</td>\n",
       "      <td>0.0</td>\n",
       "      <td>0.0</td>\n",
       "      <td>0.0</td>\n",
       "      <td>0.0</td>\n",
       "      <td>0.0</td>\n",
       "      <td>0.0</td>\n",
       "      <td>...</td>\n",
       "      <td>0</td>\n",
       "      <td>0</td>\n",
       "      <td>0</td>\n",
       "      <td>0</td>\n",
       "      <td>0</td>\n",
       "      <td>0</td>\n",
       "      <td>0</td>\n",
       "      <td>0</td>\n",
       "      <td>0</td>\n",
       "      <td>0</td>\n",
       "    </tr>\n",
       "    <tr>\n",
       "      <th>3</th>\n",
       "      <td>52.0</td>\n",
       "      <td>1</td>\n",
       "      <td>0.0</td>\n",
       "      <td>0.0</td>\n",
       "      <td>0.0</td>\n",
       "      <td>2.0</td>\n",
       "      <td>NaN</td>\n",
       "      <td>2.0</td>\n",
       "      <td>0.0</td>\n",
       "      <td>2.0</td>\n",
       "      <td>...</td>\n",
       "      <td>0</td>\n",
       "      <td>0</td>\n",
       "      <td>0</td>\n",
       "      <td>0</td>\n",
       "      <td>0</td>\n",
       "      <td>0</td>\n",
       "      <td>0</td>\n",
       "      <td>0</td>\n",
       "      <td>0</td>\n",
       "      <td>0</td>\n",
       "    </tr>\n",
       "    <tr>\n",
       "      <th>4</th>\n",
       "      <td>68.0</td>\n",
       "      <td>0</td>\n",
       "      <td>0.0</td>\n",
       "      <td>0.0</td>\n",
       "      <td>0.0</td>\n",
       "      <td>2.0</td>\n",
       "      <td>NaN</td>\n",
       "      <td>2.0</td>\n",
       "      <td>0.0</td>\n",
       "      <td>3.0</td>\n",
       "      <td>...</td>\n",
       "      <td>0</td>\n",
       "      <td>0</td>\n",
       "      <td>0</td>\n",
       "      <td>0</td>\n",
       "      <td>0</td>\n",
       "      <td>0</td>\n",
       "      <td>1</td>\n",
       "      <td>0</td>\n",
       "      <td>0</td>\n",
       "      <td>0</td>\n",
       "    </tr>\n",
       "    <tr>\n",
       "      <th>5</th>\n",
       "      <td>60.0</td>\n",
       "      <td>1</td>\n",
       "      <td>0.0</td>\n",
       "      <td>0.0</td>\n",
       "      <td>0.0</td>\n",
       "      <td>2.0</td>\n",
       "      <td>NaN</td>\n",
       "      <td>3.0</td>\n",
       "      <td>0.0</td>\n",
       "      <td>7.0</td>\n",
       "      <td>...</td>\n",
       "      <td>0</td>\n",
       "      <td>0</td>\n",
       "      <td>0</td>\n",
       "      <td>0</td>\n",
       "      <td>0</td>\n",
       "      <td>0</td>\n",
       "      <td>0</td>\n",
       "      <td>0</td>\n",
       "      <td>0</td>\n",
       "      <td>0</td>\n",
       "    </tr>\n",
       "    <tr>\n",
       "      <th>...</th>\n",
       "      <td>...</td>\n",
       "      <td>...</td>\n",
       "      <td>...</td>\n",
       "      <td>...</td>\n",
       "      <td>...</td>\n",
       "      <td>...</td>\n",
       "      <td>...</td>\n",
       "      <td>...</td>\n",
       "      <td>...</td>\n",
       "      <td>...</td>\n",
       "      <td>...</td>\n",
       "      <td>...</td>\n",
       "      <td>...</td>\n",
       "      <td>...</td>\n",
       "      <td>...</td>\n",
       "      <td>...</td>\n",
       "      <td>...</td>\n",
       "      <td>...</td>\n",
       "      <td>...</td>\n",
       "      <td>...</td>\n",
       "      <td>...</td>\n",
       "    </tr>\n",
       "    <tr>\n",
       "      <th>1696</th>\n",
       "      <td>77.0</td>\n",
       "      <td>0</td>\n",
       "      <td>0.0</td>\n",
       "      <td>4.0</td>\n",
       "      <td>2.0</td>\n",
       "      <td>1.0</td>\n",
       "      <td>NaN</td>\n",
       "      <td>2.0</td>\n",
       "      <td>0.0</td>\n",
       "      <td>7.0</td>\n",
       "      <td>...</td>\n",
       "      <td>0</td>\n",
       "      <td>0</td>\n",
       "      <td>1</td>\n",
       "      <td>0</td>\n",
       "      <td>1</td>\n",
       "      <td>0</td>\n",
       "      <td>0</td>\n",
       "      <td>0</td>\n",
       "      <td>0</td>\n",
       "      <td>3</td>\n",
       "    </tr>\n",
       "    <tr>\n",
       "      <th>1697</th>\n",
       "      <td>70.0</td>\n",
       "      <td>0</td>\n",
       "      <td>0.0</td>\n",
       "      <td>6.0</td>\n",
       "      <td>2.0</td>\n",
       "      <td>1.0</td>\n",
       "      <td>NaN</td>\n",
       "      <td>2.0</td>\n",
       "      <td>0.0</td>\n",
       "      <td>7.0</td>\n",
       "      <td>...</td>\n",
       "      <td>0</td>\n",
       "      <td>0</td>\n",
       "      <td>0</td>\n",
       "      <td>0</td>\n",
       "      <td>0</td>\n",
       "      <td>0</td>\n",
       "      <td>0</td>\n",
       "      <td>0</td>\n",
       "      <td>0</td>\n",
       "      <td>1</td>\n",
       "    </tr>\n",
       "    <tr>\n",
       "      <th>1698</th>\n",
       "      <td>55.0</td>\n",
       "      <td>1</td>\n",
       "      <td>3.0</td>\n",
       "      <td>6.0</td>\n",
       "      <td>2.0</td>\n",
       "      <td>2.0</td>\n",
       "      <td>NaN</td>\n",
       "      <td>0.0</td>\n",
       "      <td>0.0</td>\n",
       "      <td>0.0</td>\n",
       "      <td>...</td>\n",
       "      <td>0</td>\n",
       "      <td>0</td>\n",
       "      <td>0</td>\n",
       "      <td>0</td>\n",
       "      <td>0</td>\n",
       "      <td>0</td>\n",
       "      <td>0</td>\n",
       "      <td>1</td>\n",
       "      <td>0</td>\n",
       "      <td>6</td>\n",
       "    </tr>\n",
       "    <tr>\n",
       "      <th>1699</th>\n",
       "      <td>79.0</td>\n",
       "      <td>0</td>\n",
       "      <td>2.0</td>\n",
       "      <td>2.0</td>\n",
       "      <td>2.0</td>\n",
       "      <td>1.0</td>\n",
       "      <td>NaN</td>\n",
       "      <td>2.0</td>\n",
       "      <td>0.0</td>\n",
       "      <td>7.0</td>\n",
       "      <td>...</td>\n",
       "      <td>0</td>\n",
       "      <td>0</td>\n",
       "      <td>0</td>\n",
       "      <td>1</td>\n",
       "      <td>0</td>\n",
       "      <td>0</td>\n",
       "      <td>0</td>\n",
       "      <td>0</td>\n",
       "      <td>0</td>\n",
       "      <td>1</td>\n",
       "    </tr>\n",
       "    <tr>\n",
       "      <th>1700</th>\n",
       "      <td>63.0</td>\n",
       "      <td>1</td>\n",
       "      <td>2.0</td>\n",
       "      <td>NaN</td>\n",
       "      <td>NaN</td>\n",
       "      <td>NaN</td>\n",
       "      <td>NaN</td>\n",
       "      <td>2.0</td>\n",
       "      <td>0.0</td>\n",
       "      <td>NaN</td>\n",
       "      <td>...</td>\n",
       "      <td>0</td>\n",
       "      <td>0</td>\n",
       "      <td>0</td>\n",
       "      <td>0</td>\n",
       "      <td>0</td>\n",
       "      <td>0</td>\n",
       "      <td>0</td>\n",
       "      <td>0</td>\n",
       "      <td>0</td>\n",
       "      <td>1</td>\n",
       "    </tr>\n",
       "  </tbody>\n",
       "</table>\n",
       "<p>1700 rows × 123 columns</p>\n",
       "</div>"
      ],
      "text/plain": [
       "       AGE  SEX  INF_ANAM  STENOK_AN  FK_STENOK  IBS_POST  IBS_NASL   GB  \\\n",
       "ID                                                                         \n",
       "1     77.0    1       2.0        1.0        1.0       2.0       NaN  3.0   \n",
       "2     55.0    1       1.0        0.0        0.0       0.0       0.0  0.0   \n",
       "3     52.0    1       0.0        0.0        0.0       2.0       NaN  2.0   \n",
       "4     68.0    0       0.0        0.0        0.0       2.0       NaN  2.0   \n",
       "5     60.0    1       0.0        0.0        0.0       2.0       NaN  3.0   \n",
       "...    ...  ...       ...        ...        ...       ...       ...  ...   \n",
       "1696  77.0    0       0.0        4.0        2.0       1.0       NaN  2.0   \n",
       "1697  70.0    0       0.0        6.0        2.0       1.0       NaN  2.0   \n",
       "1698  55.0    1       3.0        6.0        2.0       2.0       NaN  0.0   \n",
       "1699  79.0    0       2.0        2.0        2.0       1.0       NaN  2.0   \n",
       "1700  63.0    1       2.0        NaN        NaN       NaN       NaN  2.0   \n",
       "\n",
       "      SIM_GIPERT  DLIT_AG  ...  JELUD_TAH  FIBR_JELUD  A_V_BLOK  OTEK_LANC  \\\n",
       "ID                         ...                                               \n",
       "1            0.0      7.0  ...          0           0         0          0   \n",
       "2            0.0      0.0  ...          0           0         0          0   \n",
       "3            0.0      2.0  ...          0           0         0          0   \n",
       "4            0.0      3.0  ...          0           0         0          0   \n",
       "5            0.0      7.0  ...          0           0         0          0   \n",
       "...          ...      ...  ...        ...         ...       ...        ...   \n",
       "1696         0.0      7.0  ...          0           0         1          0   \n",
       "1697         0.0      7.0  ...          0           0         0          0   \n",
       "1698         0.0      0.0  ...          0           0         0          0   \n",
       "1699         0.0      7.0  ...          0           0         0          1   \n",
       "1700         0.0      NaN  ...          0           0         0          0   \n",
       "\n",
       "      RAZRIV  DRESSLER  ZSN  REC_IM  P_IM_STEN  LET_IS  \n",
       "ID                                                      \n",
       "1          0         0    0       0          0       0  \n",
       "2          0         0    0       0          0       0  \n",
       "3          0         0    0       0          0       0  \n",
       "4          0         0    1       0          0       0  \n",
       "5          0         0    0       0          0       0  \n",
       "...      ...       ...  ...     ...        ...     ...  \n",
       "1696       1         0    0       0          0       3  \n",
       "1697       0         0    0       0          0       1  \n",
       "1698       0         0    0       1          0       6  \n",
       "1699       0         0    0       0          0       1  \n",
       "1700       0         0    0       0          0       1  \n",
       "\n",
       "[1700 rows x 123 columns]"
      ]
     },
     "execution_count": 25,
     "metadata": {},
     "output_type": "execute_result"
    }
   ],
   "source": [
    "df = pd.read_csv(\"Myocardial infarction complications.csv\", index_col=0)\n",
    "df"
   ]
  },
  {
   "cell_type": "code",
   "execution_count": 26,
   "id": "6f1aad3e",
   "metadata": {
    "ExecuteTime": {
     "end_time": "2023-05-08T06:29:18.553272Z",
     "start_time": "2023-05-08T06:29:18.521078Z"
    }
   },
   "outputs": [
    {
     "data": {
      "text/plain": [
       "count    1452.000000\n",
       "mean        3.340220\n",
       "std         3.098646\n",
       "min         0.000000\n",
       "25%         0.000000\n",
       "50%         3.000000\n",
       "75%         7.000000\n",
       "max         7.000000\n",
       "Name: DLIT_AG, dtype: float64"
      ]
     },
     "execution_count": 26,
     "metadata": {},
     "output_type": "execute_result"
    }
   ],
   "source": [
    "df['DLIT_AG'].describe()"
   ]
  },
  {
   "cell_type": "code",
   "execution_count": 27,
   "id": "cde587a1",
   "metadata": {
    "ExecuteTime": {
     "end_time": "2023-05-08T06:29:18.770097Z",
     "start_time": "2023-05-08T06:29:18.739845Z"
    }
   },
   "outputs": [
    {
     "data": {
      "text/plain": [
       "(1700, 123)"
      ]
     },
     "execution_count": 27,
     "metadata": {},
     "output_type": "execute_result"
    }
   ],
   "source": [
    "df.shape"
   ]
  },
  {
   "cell_type": "code",
   "execution_count": 28,
   "id": "c657a528",
   "metadata": {
    "ExecuteTime": {
     "end_time": "2023-05-08T06:29:19.468234Z",
     "start_time": "2023-05-08T06:29:18.973058Z"
    }
   },
   "outputs": [
    {
     "data": {
      "text/html": [
       "<div>\n",
       "<style scoped>\n",
       "    .dataframe tbody tr th:only-of-type {\n",
       "        vertical-align: middle;\n",
       "    }\n",
       "\n",
       "    .dataframe tbody tr th {\n",
       "        vertical-align: top;\n",
       "    }\n",
       "\n",
       "    .dataframe thead th {\n",
       "        text-align: right;\n",
       "    }\n",
       "</style>\n",
       "<table border=\"1\" class=\"dataframe\">\n",
       "  <thead>\n",
       "    <tr style=\"text-align: right;\">\n",
       "      <th></th>\n",
       "      <th>AGE</th>\n",
       "      <th>SEX</th>\n",
       "      <th>INF_ANAM</th>\n",
       "      <th>STENOK_AN</th>\n",
       "      <th>FK_STENOK</th>\n",
       "      <th>IBS_POST</th>\n",
       "      <th>IBS_NASL</th>\n",
       "      <th>GB</th>\n",
       "      <th>SIM_GIPERT</th>\n",
       "      <th>DLIT_AG</th>\n",
       "      <th>...</th>\n",
       "      <th>JELUD_TAH</th>\n",
       "      <th>FIBR_JELUD</th>\n",
       "      <th>A_V_BLOK</th>\n",
       "      <th>OTEK_LANC</th>\n",
       "      <th>RAZRIV</th>\n",
       "      <th>DRESSLER</th>\n",
       "      <th>ZSN</th>\n",
       "      <th>REC_IM</th>\n",
       "      <th>P_IM_STEN</th>\n",
       "      <th>LET_IS</th>\n",
       "    </tr>\n",
       "  </thead>\n",
       "  <tbody>\n",
       "    <tr>\n",
       "      <th>count</th>\n",
       "      <td>1692.000000</td>\n",
       "      <td>1700.000000</td>\n",
       "      <td>1696.000000</td>\n",
       "      <td>1594.000000</td>\n",
       "      <td>1627.000000</td>\n",
       "      <td>1649.000000</td>\n",
       "      <td>72.00000</td>\n",
       "      <td>1691.000000</td>\n",
       "      <td>1692.000000</td>\n",
       "      <td>1452.000000</td>\n",
       "      <td>...</td>\n",
       "      <td>1700.000000</td>\n",
       "      <td>1700.000000</td>\n",
       "      <td>1700.000000</td>\n",
       "      <td>1700.000000</td>\n",
       "      <td>1700.000000</td>\n",
       "      <td>1700.000000</td>\n",
       "      <td>1700.000000</td>\n",
       "      <td>1700.000000</td>\n",
       "      <td>1700.000000</td>\n",
       "      <td>1700.000000</td>\n",
       "    </tr>\n",
       "    <tr>\n",
       "      <th>mean</th>\n",
       "      <td>61.856974</td>\n",
       "      <td>0.626471</td>\n",
       "      <td>0.554835</td>\n",
       "      <td>2.316186</td>\n",
       "      <td>1.205286</td>\n",
       "      <td>1.160703</td>\n",
       "      <td>0.37500</td>\n",
       "      <td>1.393258</td>\n",
       "      <td>0.033688</td>\n",
       "      <td>3.340220</td>\n",
       "      <td>...</td>\n",
       "      <td>0.024706</td>\n",
       "      <td>0.041765</td>\n",
       "      <td>0.033529</td>\n",
       "      <td>0.093529</td>\n",
       "      <td>0.031765</td>\n",
       "      <td>0.044118</td>\n",
       "      <td>0.231765</td>\n",
       "      <td>0.093529</td>\n",
       "      <td>0.087059</td>\n",
       "      <td>0.477059</td>\n",
       "    </tr>\n",
       "    <tr>\n",
       "      <th>std</th>\n",
       "      <td>11.259936</td>\n",
       "      <td>0.483883</td>\n",
       "      <td>0.836801</td>\n",
       "      <td>2.440586</td>\n",
       "      <td>1.040814</td>\n",
       "      <td>0.801400</td>\n",
       "      <td>0.48752</td>\n",
       "      <td>1.088803</td>\n",
       "      <td>0.180478</td>\n",
       "      <td>3.098646</td>\n",
       "      <td>...</td>\n",
       "      <td>0.155273</td>\n",
       "      <td>0.200110</td>\n",
       "      <td>0.180067</td>\n",
       "      <td>0.291259</td>\n",
       "      <td>0.175425</td>\n",
       "      <td>0.205417</td>\n",
       "      <td>0.422084</td>\n",
       "      <td>0.291259</td>\n",
       "      <td>0.282004</td>\n",
       "      <td>1.381818</td>\n",
       "    </tr>\n",
       "    <tr>\n",
       "      <th>min</th>\n",
       "      <td>26.000000</td>\n",
       "      <td>0.000000</td>\n",
       "      <td>0.000000</td>\n",
       "      <td>0.000000</td>\n",
       "      <td>0.000000</td>\n",
       "      <td>0.000000</td>\n",
       "      <td>0.00000</td>\n",
       "      <td>0.000000</td>\n",
       "      <td>0.000000</td>\n",
       "      <td>0.000000</td>\n",
       "      <td>...</td>\n",
       "      <td>0.000000</td>\n",
       "      <td>0.000000</td>\n",
       "      <td>0.000000</td>\n",
       "      <td>0.000000</td>\n",
       "      <td>0.000000</td>\n",
       "      <td>0.000000</td>\n",
       "      <td>0.000000</td>\n",
       "      <td>0.000000</td>\n",
       "      <td>0.000000</td>\n",
       "      <td>0.000000</td>\n",
       "    </tr>\n",
       "    <tr>\n",
       "      <th>25%</th>\n",
       "      <td>54.000000</td>\n",
       "      <td>0.000000</td>\n",
       "      <td>0.000000</td>\n",
       "      <td>0.000000</td>\n",
       "      <td>0.000000</td>\n",
       "      <td>0.000000</td>\n",
       "      <td>0.00000</td>\n",
       "      <td>0.000000</td>\n",
       "      <td>0.000000</td>\n",
       "      <td>0.000000</td>\n",
       "      <td>...</td>\n",
       "      <td>0.000000</td>\n",
       "      <td>0.000000</td>\n",
       "      <td>0.000000</td>\n",
       "      <td>0.000000</td>\n",
       "      <td>0.000000</td>\n",
       "      <td>0.000000</td>\n",
       "      <td>0.000000</td>\n",
       "      <td>0.000000</td>\n",
       "      <td>0.000000</td>\n",
       "      <td>0.000000</td>\n",
       "    </tr>\n",
       "    <tr>\n",
       "      <th>50%</th>\n",
       "      <td>63.000000</td>\n",
       "      <td>1.000000</td>\n",
       "      <td>0.000000</td>\n",
       "      <td>1.000000</td>\n",
       "      <td>2.000000</td>\n",
       "      <td>1.000000</td>\n",
       "      <td>0.00000</td>\n",
       "      <td>2.000000</td>\n",
       "      <td>0.000000</td>\n",
       "      <td>3.000000</td>\n",
       "      <td>...</td>\n",
       "      <td>0.000000</td>\n",
       "      <td>0.000000</td>\n",
       "      <td>0.000000</td>\n",
       "      <td>0.000000</td>\n",
       "      <td>0.000000</td>\n",
       "      <td>0.000000</td>\n",
       "      <td>0.000000</td>\n",
       "      <td>0.000000</td>\n",
       "      <td>0.000000</td>\n",
       "      <td>0.000000</td>\n",
       "    </tr>\n",
       "    <tr>\n",
       "      <th>75%</th>\n",
       "      <td>70.000000</td>\n",
       "      <td>1.000000</td>\n",
       "      <td>1.000000</td>\n",
       "      <td>5.000000</td>\n",
       "      <td>2.000000</td>\n",
       "      <td>2.000000</td>\n",
       "      <td>1.00000</td>\n",
       "      <td>2.000000</td>\n",
       "      <td>0.000000</td>\n",
       "      <td>7.000000</td>\n",
       "      <td>...</td>\n",
       "      <td>0.000000</td>\n",
       "      <td>0.000000</td>\n",
       "      <td>0.000000</td>\n",
       "      <td>0.000000</td>\n",
       "      <td>0.000000</td>\n",
       "      <td>0.000000</td>\n",
       "      <td>0.000000</td>\n",
       "      <td>0.000000</td>\n",
       "      <td>0.000000</td>\n",
       "      <td>0.000000</td>\n",
       "    </tr>\n",
       "    <tr>\n",
       "      <th>max</th>\n",
       "      <td>92.000000</td>\n",
       "      <td>1.000000</td>\n",
       "      <td>3.000000</td>\n",
       "      <td>6.000000</td>\n",
       "      <td>4.000000</td>\n",
       "      <td>2.000000</td>\n",
       "      <td>1.00000</td>\n",
       "      <td>3.000000</td>\n",
       "      <td>1.000000</td>\n",
       "      <td>7.000000</td>\n",
       "      <td>...</td>\n",
       "      <td>1.000000</td>\n",
       "      <td>1.000000</td>\n",
       "      <td>1.000000</td>\n",
       "      <td>1.000000</td>\n",
       "      <td>1.000000</td>\n",
       "      <td>1.000000</td>\n",
       "      <td>1.000000</td>\n",
       "      <td>1.000000</td>\n",
       "      <td>1.000000</td>\n",
       "      <td>7.000000</td>\n",
       "    </tr>\n",
       "  </tbody>\n",
       "</table>\n",
       "<p>8 rows × 123 columns</p>\n",
       "</div>"
      ],
      "text/plain": [
       "               AGE          SEX     INF_ANAM    STENOK_AN    FK_STENOK  \\\n",
       "count  1692.000000  1700.000000  1696.000000  1594.000000  1627.000000   \n",
       "mean     61.856974     0.626471     0.554835     2.316186     1.205286   \n",
       "std      11.259936     0.483883     0.836801     2.440586     1.040814   \n",
       "min      26.000000     0.000000     0.000000     0.000000     0.000000   \n",
       "25%      54.000000     0.000000     0.000000     0.000000     0.000000   \n",
       "50%      63.000000     1.000000     0.000000     1.000000     2.000000   \n",
       "75%      70.000000     1.000000     1.000000     5.000000     2.000000   \n",
       "max      92.000000     1.000000     3.000000     6.000000     4.000000   \n",
       "\n",
       "          IBS_POST  IBS_NASL           GB   SIM_GIPERT      DLIT_AG  ...  \\\n",
       "count  1649.000000  72.00000  1691.000000  1692.000000  1452.000000  ...   \n",
       "mean      1.160703   0.37500     1.393258     0.033688     3.340220  ...   \n",
       "std       0.801400   0.48752     1.088803     0.180478     3.098646  ...   \n",
       "min       0.000000   0.00000     0.000000     0.000000     0.000000  ...   \n",
       "25%       0.000000   0.00000     0.000000     0.000000     0.000000  ...   \n",
       "50%       1.000000   0.00000     2.000000     0.000000     3.000000  ...   \n",
       "75%       2.000000   1.00000     2.000000     0.000000     7.000000  ...   \n",
       "max       2.000000   1.00000     3.000000     1.000000     7.000000  ...   \n",
       "\n",
       "         JELUD_TAH   FIBR_JELUD     A_V_BLOK    OTEK_LANC       RAZRIV  \\\n",
       "count  1700.000000  1700.000000  1700.000000  1700.000000  1700.000000   \n",
       "mean      0.024706     0.041765     0.033529     0.093529     0.031765   \n",
       "std       0.155273     0.200110     0.180067     0.291259     0.175425   \n",
       "min       0.000000     0.000000     0.000000     0.000000     0.000000   \n",
       "25%       0.000000     0.000000     0.000000     0.000000     0.000000   \n",
       "50%       0.000000     0.000000     0.000000     0.000000     0.000000   \n",
       "75%       0.000000     0.000000     0.000000     0.000000     0.000000   \n",
       "max       1.000000     1.000000     1.000000     1.000000     1.000000   \n",
       "\n",
       "          DRESSLER          ZSN       REC_IM    P_IM_STEN       LET_IS  \n",
       "count  1700.000000  1700.000000  1700.000000  1700.000000  1700.000000  \n",
       "mean      0.044118     0.231765     0.093529     0.087059     0.477059  \n",
       "std       0.205417     0.422084     0.291259     0.282004     1.381818  \n",
       "min       0.000000     0.000000     0.000000     0.000000     0.000000  \n",
       "25%       0.000000     0.000000     0.000000     0.000000     0.000000  \n",
       "50%       0.000000     0.000000     0.000000     0.000000     0.000000  \n",
       "75%       0.000000     0.000000     0.000000     0.000000     0.000000  \n",
       "max       1.000000     1.000000     1.000000     1.000000     7.000000  \n",
       "\n",
       "[8 rows x 123 columns]"
      ]
     },
     "execution_count": 28,
     "metadata": {},
     "output_type": "execute_result"
    }
   ],
   "source": [
    "df.describe()"
   ]
  },
  {
   "cell_type": "code",
   "execution_count": 29,
   "id": "71c1edbb",
   "metadata": {
    "ExecuteTime": {
     "end_time": "2023-05-08T06:29:19.500238Z",
     "start_time": "2023-05-08T06:29:19.468234Z"
    }
   },
   "outputs": [
    {
     "data": {
      "text/plain": [
       "AGE            8\n",
       "SEX            0\n",
       "INF_ANAM       4\n",
       "STENOK_AN    106\n",
       "FK_STENOK     73\n",
       "            ... \n",
       "DRESSLER       0\n",
       "ZSN            0\n",
       "REC_IM         0\n",
       "P_IM_STEN      0\n",
       "LET_IS         0\n",
       "Length: 123, dtype: int64"
      ]
     },
     "execution_count": 29,
     "metadata": {},
     "output_type": "execute_result"
    }
   ],
   "source": [
    "df.isnull().sum()"
   ]
  },
  {
   "cell_type": "code",
   "execution_count": 30,
   "id": "3ebf26bd",
   "metadata": {
    "ExecuteTime": {
     "end_time": "2023-05-08T06:29:19.577757Z",
     "start_time": "2023-05-08T06:29:19.500238Z"
    }
   },
   "outputs": [
    {
     "name": "stdout",
     "output_type": "stream",
     "text": [
      "False\n"
     ]
    }
   ],
   "source": [
    "data_dup = df.duplicated() .any()\n",
    "print(data_dup)"
   ]
  },
  {
   "cell_type": "code",
   "execution_count": 31,
   "id": "efaa7577",
   "metadata": {
    "ExecuteTime": {
     "end_time": "2023-05-08T06:29:22.468471Z",
     "start_time": "2023-05-08T06:29:22.334465Z"
    }
   },
   "outputs": [
    {
     "data": {
      "text/plain": [
       "AGE          0\n",
       "SEX          0\n",
       "INF_ANAM     0\n",
       "STENOK_AN    0\n",
       "FK_STENOK    0\n",
       "            ..\n",
       "DRESSLER     0\n",
       "ZSN          0\n",
       "REC_IM       0\n",
       "P_IM_STEN    0\n",
       "LET_IS       0\n",
       "Length: 123, dtype: int64"
      ]
     },
     "execution_count": 31,
     "metadata": {},
     "output_type": "execute_result"
    }
   ],
   "source": [
    "df = df.fillna(df.mean())\n",
    "df.isnull().sum()"
   ]
  },
  {
   "cell_type": "markdown",
   "id": "9ed29c5c",
   "metadata": {
    "ExecuteTime": {
     "end_time": "2023-05-08T06:26:38.865008Z",
     "start_time": "2023-05-08T06:26:38.817011Z"
    }
   },
   "source": [
    "import numpy as np\n",
    "df['outcome'] = np.where(\n",
    "    df['LET_IS'] == 0, 0, 1)\n",
    "df.head()\n"
   ]
  },
  {
   "cell_type": "code",
   "execution_count": 32,
   "id": "b00562b0",
   "metadata": {
    "ExecuteTime": {
     "end_time": "2023-05-08T06:29:55.663492Z",
     "start_time": "2023-05-08T06:29:55.639490Z"
    }
   },
   "outputs": [],
   "source": [
    "df = df.drop('S_AD_KBRIG', 1)\n",
    "df = df.drop('D_AD_KBRIG', 1)\n",
    "df = df.drop('S_AD_ORIT', 1)\n",
    "df= df.drop('D_AD_ORIT', 1)\n"
   ]
  },
  {
   "cell_type": "code",
   "execution_count": 33,
   "id": "ad9b03bd",
   "metadata": {
    "ExecuteTime": {
     "end_time": "2023-05-08T06:29:59.218088Z",
     "start_time": "2023-05-08T06:29:59.194085Z"
    }
   },
   "outputs": [],
   "source": [
    "#column_modes = data.mode(axis = 0)\n",
    "#print(column_modes)\n",
    "#data = data.fillna(column_modes.iloc[0])\n",
    "df = df.fillna(-1)"
   ]
  },
  {
   "cell_type": "code",
   "execution_count": 34,
   "id": "0666ab55",
   "metadata": {
    "ExecuteTime": {
     "end_time": "2023-05-08T06:29:59.763039Z",
     "start_time": "2023-05-08T06:29:59.703550Z"
    }
   },
   "outputs": [
    {
     "data": {
      "text/html": [
       "<div>\n",
       "<style scoped>\n",
       "    .dataframe tbody tr th:only-of-type {\n",
       "        vertical-align: middle;\n",
       "    }\n",
       "\n",
       "    .dataframe tbody tr th {\n",
       "        vertical-align: top;\n",
       "    }\n",
       "\n",
       "    .dataframe thead th {\n",
       "        text-align: right;\n",
       "    }\n",
       "</style>\n",
       "<table border=\"1\" class=\"dataframe\">\n",
       "  <thead>\n",
       "    <tr style=\"text-align: right;\">\n",
       "      <th></th>\n",
       "      <th>AGE</th>\n",
       "      <th>SEX</th>\n",
       "      <th>INF_ANAM</th>\n",
       "      <th>STENOK_AN</th>\n",
       "      <th>FK_STENOK</th>\n",
       "      <th>IBS_POST</th>\n",
       "      <th>IBS_NASL</th>\n",
       "      <th>GB</th>\n",
       "      <th>SIM_GIPERT</th>\n",
       "      <th>DLIT_AG</th>\n",
       "      <th>...</th>\n",
       "      <th>JELUD_TAH</th>\n",
       "      <th>FIBR_JELUD</th>\n",
       "      <th>A_V_BLOK</th>\n",
       "      <th>OTEK_LANC</th>\n",
       "      <th>RAZRIV</th>\n",
       "      <th>DRESSLER</th>\n",
       "      <th>ZSN</th>\n",
       "      <th>REC_IM</th>\n",
       "      <th>P_IM_STEN</th>\n",
       "      <th>LET_IS</th>\n",
       "    </tr>\n",
       "    <tr>\n",
       "      <th>ID</th>\n",
       "      <th></th>\n",
       "      <th></th>\n",
       "      <th></th>\n",
       "      <th></th>\n",
       "      <th></th>\n",
       "      <th></th>\n",
       "      <th></th>\n",
       "      <th></th>\n",
       "      <th></th>\n",
       "      <th></th>\n",
       "      <th></th>\n",
       "      <th></th>\n",
       "      <th></th>\n",
       "      <th></th>\n",
       "      <th></th>\n",
       "      <th></th>\n",
       "      <th></th>\n",
       "      <th></th>\n",
       "      <th></th>\n",
       "      <th></th>\n",
       "      <th></th>\n",
       "    </tr>\n",
       "  </thead>\n",
       "  <tbody>\n",
       "    <tr>\n",
       "      <th>1</th>\n",
       "      <td>77.0</td>\n",
       "      <td>1</td>\n",
       "      <td>2.0</td>\n",
       "      <td>1.000000</td>\n",
       "      <td>1.000000</td>\n",
       "      <td>2.000000</td>\n",
       "      <td>0.375</td>\n",
       "      <td>3.0</td>\n",
       "      <td>0.0</td>\n",
       "      <td>7.00000</td>\n",
       "      <td>...</td>\n",
       "      <td>0</td>\n",
       "      <td>0</td>\n",
       "      <td>0</td>\n",
       "      <td>0</td>\n",
       "      <td>0</td>\n",
       "      <td>0</td>\n",
       "      <td>0</td>\n",
       "      <td>0</td>\n",
       "      <td>0</td>\n",
       "      <td>0</td>\n",
       "    </tr>\n",
       "    <tr>\n",
       "      <th>2</th>\n",
       "      <td>55.0</td>\n",
       "      <td>1</td>\n",
       "      <td>1.0</td>\n",
       "      <td>0.000000</td>\n",
       "      <td>0.000000</td>\n",
       "      <td>0.000000</td>\n",
       "      <td>0.000</td>\n",
       "      <td>0.0</td>\n",
       "      <td>0.0</td>\n",
       "      <td>0.00000</td>\n",
       "      <td>...</td>\n",
       "      <td>0</td>\n",
       "      <td>0</td>\n",
       "      <td>0</td>\n",
       "      <td>0</td>\n",
       "      <td>0</td>\n",
       "      <td>0</td>\n",
       "      <td>0</td>\n",
       "      <td>0</td>\n",
       "      <td>0</td>\n",
       "      <td>0</td>\n",
       "    </tr>\n",
       "    <tr>\n",
       "      <th>3</th>\n",
       "      <td>52.0</td>\n",
       "      <td>1</td>\n",
       "      <td>0.0</td>\n",
       "      <td>0.000000</td>\n",
       "      <td>0.000000</td>\n",
       "      <td>2.000000</td>\n",
       "      <td>0.375</td>\n",
       "      <td>2.0</td>\n",
       "      <td>0.0</td>\n",
       "      <td>2.00000</td>\n",
       "      <td>...</td>\n",
       "      <td>0</td>\n",
       "      <td>0</td>\n",
       "      <td>0</td>\n",
       "      <td>0</td>\n",
       "      <td>0</td>\n",
       "      <td>0</td>\n",
       "      <td>0</td>\n",
       "      <td>0</td>\n",
       "      <td>0</td>\n",
       "      <td>0</td>\n",
       "    </tr>\n",
       "    <tr>\n",
       "      <th>4</th>\n",
       "      <td>68.0</td>\n",
       "      <td>0</td>\n",
       "      <td>0.0</td>\n",
       "      <td>0.000000</td>\n",
       "      <td>0.000000</td>\n",
       "      <td>2.000000</td>\n",
       "      <td>0.375</td>\n",
       "      <td>2.0</td>\n",
       "      <td>0.0</td>\n",
       "      <td>3.00000</td>\n",
       "      <td>...</td>\n",
       "      <td>0</td>\n",
       "      <td>0</td>\n",
       "      <td>0</td>\n",
       "      <td>0</td>\n",
       "      <td>0</td>\n",
       "      <td>0</td>\n",
       "      <td>1</td>\n",
       "      <td>0</td>\n",
       "      <td>0</td>\n",
       "      <td>0</td>\n",
       "    </tr>\n",
       "    <tr>\n",
       "      <th>5</th>\n",
       "      <td>60.0</td>\n",
       "      <td>1</td>\n",
       "      <td>0.0</td>\n",
       "      <td>0.000000</td>\n",
       "      <td>0.000000</td>\n",
       "      <td>2.000000</td>\n",
       "      <td>0.375</td>\n",
       "      <td>3.0</td>\n",
       "      <td>0.0</td>\n",
       "      <td>7.00000</td>\n",
       "      <td>...</td>\n",
       "      <td>0</td>\n",
       "      <td>0</td>\n",
       "      <td>0</td>\n",
       "      <td>0</td>\n",
       "      <td>0</td>\n",
       "      <td>0</td>\n",
       "      <td>0</td>\n",
       "      <td>0</td>\n",
       "      <td>0</td>\n",
       "      <td>0</td>\n",
       "    </tr>\n",
       "    <tr>\n",
       "      <th>...</th>\n",
       "      <td>...</td>\n",
       "      <td>...</td>\n",
       "      <td>...</td>\n",
       "      <td>...</td>\n",
       "      <td>...</td>\n",
       "      <td>...</td>\n",
       "      <td>...</td>\n",
       "      <td>...</td>\n",
       "      <td>...</td>\n",
       "      <td>...</td>\n",
       "      <td>...</td>\n",
       "      <td>...</td>\n",
       "      <td>...</td>\n",
       "      <td>...</td>\n",
       "      <td>...</td>\n",
       "      <td>...</td>\n",
       "      <td>...</td>\n",
       "      <td>...</td>\n",
       "      <td>...</td>\n",
       "      <td>...</td>\n",
       "      <td>...</td>\n",
       "    </tr>\n",
       "    <tr>\n",
       "      <th>1696</th>\n",
       "      <td>77.0</td>\n",
       "      <td>0</td>\n",
       "      <td>0.0</td>\n",
       "      <td>4.000000</td>\n",
       "      <td>2.000000</td>\n",
       "      <td>1.000000</td>\n",
       "      <td>0.375</td>\n",
       "      <td>2.0</td>\n",
       "      <td>0.0</td>\n",
       "      <td>7.00000</td>\n",
       "      <td>...</td>\n",
       "      <td>0</td>\n",
       "      <td>0</td>\n",
       "      <td>1</td>\n",
       "      <td>0</td>\n",
       "      <td>1</td>\n",
       "      <td>0</td>\n",
       "      <td>0</td>\n",
       "      <td>0</td>\n",
       "      <td>0</td>\n",
       "      <td>3</td>\n",
       "    </tr>\n",
       "    <tr>\n",
       "      <th>1697</th>\n",
       "      <td>70.0</td>\n",
       "      <td>0</td>\n",
       "      <td>0.0</td>\n",
       "      <td>6.000000</td>\n",
       "      <td>2.000000</td>\n",
       "      <td>1.000000</td>\n",
       "      <td>0.375</td>\n",
       "      <td>2.0</td>\n",
       "      <td>0.0</td>\n",
       "      <td>7.00000</td>\n",
       "      <td>...</td>\n",
       "      <td>0</td>\n",
       "      <td>0</td>\n",
       "      <td>0</td>\n",
       "      <td>0</td>\n",
       "      <td>0</td>\n",
       "      <td>0</td>\n",
       "      <td>0</td>\n",
       "      <td>0</td>\n",
       "      <td>0</td>\n",
       "      <td>1</td>\n",
       "    </tr>\n",
       "    <tr>\n",
       "      <th>1698</th>\n",
       "      <td>55.0</td>\n",
       "      <td>1</td>\n",
       "      <td>3.0</td>\n",
       "      <td>6.000000</td>\n",
       "      <td>2.000000</td>\n",
       "      <td>2.000000</td>\n",
       "      <td>0.375</td>\n",
       "      <td>0.0</td>\n",
       "      <td>0.0</td>\n",
       "      <td>0.00000</td>\n",
       "      <td>...</td>\n",
       "      <td>0</td>\n",
       "      <td>0</td>\n",
       "      <td>0</td>\n",
       "      <td>0</td>\n",
       "      <td>0</td>\n",
       "      <td>0</td>\n",
       "      <td>0</td>\n",
       "      <td>1</td>\n",
       "      <td>0</td>\n",
       "      <td>6</td>\n",
       "    </tr>\n",
       "    <tr>\n",
       "      <th>1699</th>\n",
       "      <td>79.0</td>\n",
       "      <td>0</td>\n",
       "      <td>2.0</td>\n",
       "      <td>2.000000</td>\n",
       "      <td>2.000000</td>\n",
       "      <td>1.000000</td>\n",
       "      <td>0.375</td>\n",
       "      <td>2.0</td>\n",
       "      <td>0.0</td>\n",
       "      <td>7.00000</td>\n",
       "      <td>...</td>\n",
       "      <td>0</td>\n",
       "      <td>0</td>\n",
       "      <td>0</td>\n",
       "      <td>1</td>\n",
       "      <td>0</td>\n",
       "      <td>0</td>\n",
       "      <td>0</td>\n",
       "      <td>0</td>\n",
       "      <td>0</td>\n",
       "      <td>1</td>\n",
       "    </tr>\n",
       "    <tr>\n",
       "      <th>1700</th>\n",
       "      <td>63.0</td>\n",
       "      <td>1</td>\n",
       "      <td>2.0</td>\n",
       "      <td>2.316186</td>\n",
       "      <td>1.205286</td>\n",
       "      <td>1.160703</td>\n",
       "      <td>0.375</td>\n",
       "      <td>2.0</td>\n",
       "      <td>0.0</td>\n",
       "      <td>3.34022</td>\n",
       "      <td>...</td>\n",
       "      <td>0</td>\n",
       "      <td>0</td>\n",
       "      <td>0</td>\n",
       "      <td>0</td>\n",
       "      <td>0</td>\n",
       "      <td>0</td>\n",
       "      <td>0</td>\n",
       "      <td>0</td>\n",
       "      <td>0</td>\n",
       "      <td>1</td>\n",
       "    </tr>\n",
       "  </tbody>\n",
       "</table>\n",
       "<p>1700 rows × 119 columns</p>\n",
       "</div>"
      ],
      "text/plain": [
       "       AGE  SEX  INF_ANAM  STENOK_AN  FK_STENOK  IBS_POST  IBS_NASL   GB  \\\n",
       "ID                                                                         \n",
       "1     77.0    1       2.0   1.000000   1.000000  2.000000     0.375  3.0   \n",
       "2     55.0    1       1.0   0.000000   0.000000  0.000000     0.000  0.0   \n",
       "3     52.0    1       0.0   0.000000   0.000000  2.000000     0.375  2.0   \n",
       "4     68.0    0       0.0   0.000000   0.000000  2.000000     0.375  2.0   \n",
       "5     60.0    1       0.0   0.000000   0.000000  2.000000     0.375  3.0   \n",
       "...    ...  ...       ...        ...        ...       ...       ...  ...   \n",
       "1696  77.0    0       0.0   4.000000   2.000000  1.000000     0.375  2.0   \n",
       "1697  70.0    0       0.0   6.000000   2.000000  1.000000     0.375  2.0   \n",
       "1698  55.0    1       3.0   6.000000   2.000000  2.000000     0.375  0.0   \n",
       "1699  79.0    0       2.0   2.000000   2.000000  1.000000     0.375  2.0   \n",
       "1700  63.0    1       2.0   2.316186   1.205286  1.160703     0.375  2.0   \n",
       "\n",
       "      SIM_GIPERT  DLIT_AG  ...  JELUD_TAH  FIBR_JELUD  A_V_BLOK  OTEK_LANC  \\\n",
       "ID                         ...                                               \n",
       "1            0.0  7.00000  ...          0           0         0          0   \n",
       "2            0.0  0.00000  ...          0           0         0          0   \n",
       "3            0.0  2.00000  ...          0           0         0          0   \n",
       "4            0.0  3.00000  ...          0           0         0          0   \n",
       "5            0.0  7.00000  ...          0           0         0          0   \n",
       "...          ...      ...  ...        ...         ...       ...        ...   \n",
       "1696         0.0  7.00000  ...          0           0         1          0   \n",
       "1697         0.0  7.00000  ...          0           0         0          0   \n",
       "1698         0.0  0.00000  ...          0           0         0          0   \n",
       "1699         0.0  7.00000  ...          0           0         0          1   \n",
       "1700         0.0  3.34022  ...          0           0         0          0   \n",
       "\n",
       "      RAZRIV  DRESSLER  ZSN  REC_IM  P_IM_STEN  LET_IS  \n",
       "ID                                                      \n",
       "1          0         0    0       0          0       0  \n",
       "2          0         0    0       0          0       0  \n",
       "3          0         0    0       0          0       0  \n",
       "4          0         0    1       0          0       0  \n",
       "5          0         0    0       0          0       0  \n",
       "...      ...       ...  ...     ...        ...     ...  \n",
       "1696       1         0    0       0          0       3  \n",
       "1697       0         0    0       0          0       1  \n",
       "1698       0         0    0       1          0       6  \n",
       "1699       0         0    0       0          0       1  \n",
       "1700       0         0    0       0          0       1  \n",
       "\n",
       "[1700 rows x 119 columns]"
      ]
     },
     "execution_count": 34,
     "metadata": {},
     "output_type": "execute_result"
    }
   ],
   "source": [
    "df"
   ]
  },
  {
   "cell_type": "markdown",
   "id": "586fb593",
   "metadata": {},
   "source": [
    "Y = df['outcome']\n",
    "X = df.iloc[:,:107]\n",
    "plt.figure(figsize=(8,5))\n",
    "df['outcome'].value_counts().plot(kind='bar', color = ['blue', 'yellow'])\n",
    "my_xticks = ['Alive', 'Dead']\n",
    "x = df.outcome.unique()\n",
    "plt.xticks(x, my_xticks)\n",
    "plt.xlabel(\"Outcome\")\n",
    "plt.ylabel(\"Count\")"
   ]
  },
  {
   "cell_type": "code",
   "execution_count": 36,
   "id": "eac20f52",
   "metadata": {
    "ExecuteTime": {
     "end_time": "2023-05-08T06:30:18.984836Z",
     "start_time": "2023-05-08T06:30:18.960834Z"
    }
   },
   "outputs": [],
   "source": [
    "Y = df['LET_IS']\n",
    "X = df.iloc[:,:107]"
   ]
  },
  {
   "cell_type": "code",
   "execution_count": 37,
   "id": "4cb3eb7e",
   "metadata": {
    "ExecuteTime": {
     "end_time": "2023-05-08T06:30:21.078820Z",
     "start_time": "2023-05-08T06:30:21.046824Z"
    }
   },
   "outputs": [
    {
     "name": "stdout",
     "output_type": "stream",
     "text": [
      "(1190, 107)\n"
     ]
    }
   ],
   "source": [
    "from sklearn.model_selection import train_test_split\n",
    "X_train, X_test, Y_train, Y_test = train_test_split(X, Y, random_state=100, test_size=0.3)\n",
    "print(X_train.shape)"
   ]
  },
  {
   "cell_type": "code",
   "execution_count": 38,
   "id": "946d6f58",
   "metadata": {
    "ExecuteTime": {
     "end_time": "2023-05-08T06:30:22.507883Z",
     "start_time": "2023-05-08T06:30:22.475887Z"
    }
   },
   "outputs": [
    {
     "data": {
      "text/plain": [
       "ID\n",
       "488     0\n",
       "1090    0\n",
       "1251    0\n",
       "1459    3\n",
       "922     0\n",
       "       ..\n",
       "1652    1\n",
       "683     0\n",
       "1668    1\n",
       "303     0\n",
       "822     0\n",
       "Name: LET_IS, Length: 510, dtype: int64"
      ]
     },
     "execution_count": 38,
     "metadata": {},
     "output_type": "execute_result"
    }
   ],
   "source": [
    "Y_test"
   ]
  },
  {
   "cell_type": "code",
   "execution_count": 39,
   "id": "15f552f5",
   "metadata": {
    "ExecuteTime": {
     "end_time": "2023-05-08T06:30:25.223335Z",
     "start_time": "2023-05-08T06:30:25.194282Z"
    }
   },
   "outputs": [
    {
     "data": {
      "text/plain": [
       "0    428\n",
       "1     37\n",
       "3     16\n",
       "6     10\n",
       "2      7\n",
       "7      7\n",
       "4      4\n",
       "5      1\n",
       "Name: LET_IS, dtype: int64"
      ]
     },
     "execution_count": 39,
     "metadata": {},
     "output_type": "execute_result"
    }
   ],
   "source": [
    "Y_test.value_counts()"
   ]
  },
  {
   "cell_type": "code",
   "execution_count": 40,
   "id": "65fcecec",
   "metadata": {
    "ExecuteTime": {
     "end_time": "2023-05-08T06:30:27.291214Z",
     "start_time": "2023-05-08T06:30:26.820057Z"
    }
   },
   "outputs": [
    {
     "data": {
      "text/plain": [
       "RandomForestClassifier()"
      ]
     },
     "execution_count": 40,
     "metadata": {},
     "output_type": "execute_result"
    }
   ],
   "source": [
    "from sklearn.ensemble import RandomForestClassifier\n",
    "clf = RandomForestClassifier(n_estimators=100)\n",
    "clf.fit(X_train,Y_train)"
   ]
  },
  {
   "cell_type": "code",
   "execution_count": 41,
   "id": "bcd8dcc9",
   "metadata": {
    "ExecuteTime": {
     "end_time": "2023-05-08T06:30:27.659521Z",
     "start_time": "2023-05-08T06:30:27.611525Z"
    }
   },
   "outputs": [
    {
     "data": {
      "text/plain": [
       "array([3.67420216e-02, 8.55674620e-03, 1.36666763e-02, 1.87053011e-02,\n",
       "       1.20788243e-02, 1.40780744e-02, 3.04986459e-04, 1.17446300e-02,\n",
       "       3.31895230e-03, 1.74407094e-02, 2.78780917e-02, 7.25993781e-04,\n",
       "       6.49428776e-04, 1.63023028e-03, 2.89795555e-03, 7.46105327e-03,\n",
       "       1.31296799e-03, 1.94766785e-03, 3.39443832e-03, 1.28376314e-03,\n",
       "       1.71653634e-03, 3.03682497e-03, 2.94486664e-03, 1.01547510e-03,\n",
       "       2.33488422e-03, 8.24743023e-03, 3.64955341e-03, 1.98578424e-03,\n",
       "       3.62254235e-03, 9.39015742e-03, 9.62996384e-03, 3.80876403e-04,\n",
       "       2.80436759e-04, 3.98014760e-03, 2.02688811e-02, 5.36146415e-03,\n",
       "       2.40690152e-03, 2.01445479e-04, 1.05509212e-03, 1.66999240e-02,\n",
       "       1.72340101e-02, 1.60292952e-02, 1.10013900e-02, 4.61813561e-03,\n",
       "       1.10856937e-02, 4.42873687e-03, 2.57632728e-03, 4.21464091e-04,\n",
       "       9.58935488e-03, 8.20986508e-04, 5.43862558e-03, 8.65997062e-04,\n",
       "       5.79911776e-03, 4.34483532e-03, 4.33101706e-03, 4.61604863e-03,\n",
       "       6.28791848e-04, 3.95730958e-04, 4.96495535e-04, 5.51021669e-04,\n",
       "       2.50093384e-03, 7.04051269e-04, 3.67063071e-04, 3.65893375e-03,\n",
       "       3.63655803e-03, 3.84656119e-03, 7.91731059e-04, 2.07362644e-03,\n",
       "       5.16266579e-04, 9.26187715e-03, 5.32276164e-05, 8.90534768e-04,\n",
       "       1.47154624e-03, 0.00000000e+00, 2.89531526e-04, 6.65471476e-05,\n",
       "       2.13552093e-04, 1.00565835e-02, 2.56582197e-02, 6.65506915e-03,\n",
       "       2.37883152e-02, 2.19194896e-02, 2.43359413e-02, 0.00000000e+00,\n",
       "       3.31810367e-02, 2.90414771e-02, 2.09439499e-02, 1.06142924e-02,\n",
       "       3.77290365e-02, 4.31272506e-02, 1.27771923e-02, 1.28792741e-02,\n",
       "       1.06291952e-02, 1.23971875e-02, 1.26397730e-02, 3.26696960e-02,\n",
       "       6.62935333e-02, 1.36743267e-02, 2.46533593e-02, 4.89753747e-02,\n",
       "       6.84776857e-03, 5.54998556e-03, 8.20332490e-03, 6.67211980e-03,\n",
       "       1.00860026e-02, 2.92395641e-03, 5.43395031e-03])"
      ]
     },
     "execution_count": 41,
     "metadata": {},
     "output_type": "execute_result"
    }
   ],
   "source": [
    "clf.feature_importances_"
   ]
  },
  {
   "cell_type": "code",
   "execution_count": 42,
   "id": "d46a19e8",
   "metadata": {
    "ExecuteTime": {
     "end_time": "2023-05-08T06:30:30.182447Z",
     "start_time": "2023-05-08T06:30:28.481698Z"
    }
   },
   "outputs": [
    {
     "data": {
      "image/png": "[encoded data removed]",
      "text/plain": [
       "<Figure size 800x1800 with 1 Axes>"
      ]
     },
     "metadata": {},
     "output_type": "display_data"
    }
   ],
   "source": [
    "plt.figure(figsize=(8,18))\n",
    "plt.barh(X.columns, clf.feature_importances_)\n",
    "plt.xlabel('Importance')\n",
    "plt.title('Feature Importances')\n",
    "plt.show()"
   ]
  },
  {
   "cell_type": "code",
   "execution_count": 43,
   "id": "2f355f3d",
   "metadata": {
    "ExecuteTime": {
     "end_time": "2023-05-08T06:30:30.611538Z",
     "start_time": "2023-05-08T06:30:30.182447Z"
    }
   },
   "outputs": [
    {
     "data": {
      "text/plain": [
       "Text(0.5, 0, 'Random Forest Feature Importance')"
      ]
     },
     "execution_count": 43,
     "metadata": {},
     "output_type": "execute_result"
    },
    {
     "data": {
      "image/png": "[encoded data removed]",
      "text/plain": [
       "<Figure size 640x480 with 1 Axes>"
      ]
     },
     "metadata": {},
     "output_type": "display_data"
    }
   ],
   "source": [
    "sorted_idx = clf.feature_importances_.argsort()\n",
    "plt.barh(X.columns[sorted_idx][:10], clf.feature_importances_[sorted_idx][:10])\n",
    "plt.xlabel(\"Random Forest Feature Importance\")"
   ]
  },
  {
   "cell_type": "code",
   "execution_count": 44,
   "id": "e2fd43b8",
   "metadata": {
    "ExecuteTime": {
     "end_time": "2023-05-08T06:30:30.679496Z",
     "start_time": "2023-05-08T06:30:30.611538Z"
    }
   },
   "outputs": [
    {
     "data": {
      "text/plain": [
       "array([0, 0, 0, 1, 0, 0, 0, 0, 0, 0, 0, 0, 0, 0, 0, 0, 0, 0, 0, 0, 0, 0,\n",
       "       0, 0, 0, 0, 0, 0, 0, 0, 0, 0, 0, 0, 0, 0, 0, 0, 0, 0, 0, 0, 0, 0,\n",
       "       0, 0, 0, 0, 0, 0, 0, 6, 0, 0, 0, 0, 0, 0, 0, 0, 0, 0, 0, 0, 0, 0,\n",
       "       0, 0, 0, 0, 1, 3, 0, 0, 0, 0, 0, 0, 0, 0, 1, 1, 0, 0, 0, 0, 0, 0,\n",
       "       1, 0, 0, 0, 0, 0, 0, 0, 0, 0, 0, 0, 0, 0, 0, 0, 0, 0, 0, 0, 0, 0,\n",
       "       0, 0, 1, 0, 0, 0, 0, 0, 0, 0, 1, 0, 0, 1, 0, 0, 0, 0, 0, 0, 0, 0,\n",
       "       0, 0, 1, 0, 0, 1, 1, 0, 0, 0, 0, 0, 0, 0, 0, 0, 0, 0, 0, 1, 0, 0,\n",
       "       0, 0, 0, 0, 0, 0, 0, 0, 0, 0, 0, 1, 0, 0, 0, 0, 0, 0, 0, 0, 0, 0,\n",
       "       3, 0, 0, 0, 0, 0, 0, 1, 0, 1, 0, 0, 0, 0, 0, 0, 0, 0, 0, 0, 0, 0,\n",
       "       0, 0, 0, 0, 0, 0, 0, 0, 0, 0, 0, 0, 0, 0, 0, 0, 0, 0, 0, 0, 0, 0,\n",
       "       0, 0, 0, 0, 0, 0, 0, 0, 0, 0, 0, 0, 0, 0, 0, 0, 0, 0, 0, 0, 0, 0,\n",
       "       0, 0, 0, 0, 0, 0, 0, 0, 0, 0, 1, 0, 0, 0, 0, 0, 0, 0, 0, 1, 0, 0,\n",
       "       0, 0, 0, 0, 0, 0, 0, 0, 0, 0, 0, 0, 0, 0, 0, 0, 1, 0, 0, 0, 0, 0,\n",
       "       0, 0, 0, 0, 0, 0, 0, 0, 1, 1, 0, 0, 0, 0, 0, 0, 0, 0, 0, 0, 0, 0,\n",
       "       0, 0, 0, 0, 0, 0, 1, 0, 0, 1, 0, 1, 0, 0, 1, 0, 0, 0, 0, 0, 0, 0,\n",
       "       0, 0, 0, 0, 0, 0, 0, 0, 0, 0, 0, 0, 0, 0, 0, 0, 0, 0, 0, 1, 1, 0,\n",
       "       0, 0, 0, 0, 0, 0, 0, 0, 0, 0, 0, 0, 0, 0, 0, 0, 0, 0, 1, 0, 0, 0,\n",
       "       0, 0, 0, 0, 0, 0, 0, 0, 0, 0, 0, 0, 0, 0, 0, 0, 0, 0, 0, 1, 0, 0,\n",
       "       0, 0, 0, 0, 0, 0, 0, 0, 0, 0, 0, 0, 0, 0, 0, 0, 0, 0, 0, 0, 0, 0,\n",
       "       0, 0, 0, 0, 0, 0, 0, 0, 0, 0, 0, 0, 0, 0, 0, 1, 0, 1, 0, 0, 0, 0,\n",
       "       0, 0, 0, 0, 0, 0, 0, 0, 0, 0, 0, 0, 0, 0, 0, 0, 0, 0, 0, 0, 0, 1,\n",
       "       0, 0, 0, 0, 0, 0, 0, 1, 0, 0, 0, 0, 0, 0, 0, 0, 0, 0, 0, 1, 0, 0,\n",
       "       0, 0, 0, 0, 0, 0, 0, 0, 0, 0, 0, 0, 0, 0, 0, 1, 0, 0, 0, 0, 0, 0,\n",
       "       0, 0, 0, 0], dtype=int64)"
      ]
     },
     "execution_count": 44,
     "metadata": {},
     "output_type": "execute_result"
    }
   ],
   "source": [
    "Ypred = clf.predict(X_test)\n",
    "Ypred"
   ]
  },
  {
   "cell_type": "code",
   "execution_count": 45,
   "id": "3f35888e",
   "metadata": {
    "ExecuteTime": {
     "end_time": "2023-05-08T06:30:49.423297Z",
     "start_time": "2023-05-08T06:30:49.399276Z"
    }
   },
   "outputs": [
    {
     "name": "stdout",
     "output_type": "stream",
     "text": [
      "Accuracy: 0.888235294117647\n"
     ]
    }
   ],
   "source": [
    "\n",
    "from sklearn import metrics\n",
    "print(\"Accuracy:\",metrics.accuracy_score(Y_test, Ypred))"
   ]
  },
  {
   "cell_type": "code",
   "execution_count": 46,
   "id": "b66ee756",
   "metadata": {
    "ExecuteTime": {
     "end_time": "2023-05-08T06:30:53.526544Z",
     "start_time": "2023-05-08T06:30:53.501858Z"
    }
   },
   "outputs": [
    {
     "name": "stdout",
     "output_type": "stream",
     "text": [
      "[[428   0   0   0   0   0   0   0]\n",
      " [ 12  24   0   1   0   0   0   0]\n",
      " [  6   1   0   0   0   0   0   0]\n",
      " [ 11   5   0   0   0   0   0   0]\n",
      " [  4   0   0   0   0   0   0   0]\n",
      " [  1   0   0   0   0   0   0   0]\n",
      " [  6   3   0   0   0   0   1   0]\n",
      " [  5   1   0   1   0   0   0   0]]\n"
     ]
    }
   ],
   "source": [
    "from sklearn.metrics import confusion_matrix, ConfusionMatrixDisplay\n",
    "conf_mat = confusion_matrix(Y_test, Ypred)\n",
    "print(conf_mat)"
   ]
  },
  {
   "cell_type": "code",
   "execution_count": 47,
   "id": "e1b736f2",
   "metadata": {
    "ExecuteTime": {
     "end_time": "2023-05-08T06:30:56.496763Z",
     "start_time": "2023-05-08T06:30:56.480760Z"
    }
   },
   "outputs": [
    {
     "data": {
      "text/plain": [
       "92.3529411764706"
      ]
     },
     "execution_count": 47,
     "metadata": {},
     "output_type": "execute_result"
    }
   ],
   "source": [
    "((427+44)/(427+1+38+44)*100)"
   ]
  },
  {
   "cell_type": "code",
   "execution_count": 48,
   "id": "ecf96bf9",
   "metadata": {
    "ExecuteTime": {
     "end_time": "2023-05-08T06:30:58.873679Z",
     "start_time": "2023-05-08T06:30:58.120958Z"
    }
   },
   "outputs": [
    {
     "data": {
      "image/png": "[encoded data removed]",
      "text/plain": [
       "<Figure size 640x480 with 2 Axes>"
      ]
     },
     "metadata": {},
     "output_type": "display_data"
    }
   ],
   "source": [
    "disp = ConfusionMatrixDisplay(confusion_matrix=conf_mat,display_labels=clf.classes_)\n",
    "disp.plot()\n",
    "plt.show()"
   ]
  },
  {
   "cell_type": "code",
   "execution_count": 49,
   "id": "1b420b4b",
   "metadata": {
    "ExecuteTime": {
     "end_time": "2023-05-08T06:31:06.458485Z",
     "start_time": "2023-05-08T06:31:06.378493Z"
    }
   },
   "outputs": [
    {
     "name": "stdout",
     "output_type": "stream",
     "text": [
      "              precision    recall  f1-score   support\n",
      "\n",
      "           0       0.90      1.00      0.95       428\n",
      "           1       0.71      0.65      0.68        37\n",
      "           2       0.00      0.00      0.00         7\n",
      "           3       0.00      0.00      0.00        16\n",
      "           4       0.00      0.00      0.00         4\n",
      "           5       0.00      0.00      0.00         1\n",
      "           6       1.00      0.10      0.18        10\n",
      "           7       0.00      0.00      0.00         7\n",
      "\n",
      "    accuracy                           0.89       510\n",
      "   macro avg       0.33      0.22      0.23       510\n",
      "weighted avg       0.83      0.89      0.85       510\n",
      "\n"
     ]
    }
   ],
   "source": [
    "from sklearn.metrics import classification_report\n",
    "pred = clf.predict(X_test)\n",
    "print(classification_report(Y_test, Ypred))"
   ]
  },
  {
   "cell_type": "code",
   "execution_count": 50,
   "id": "0294af7c",
   "metadata": {
    "ExecuteTime": {
     "end_time": "2023-05-08T06:31:13.801694Z",
     "start_time": "2023-05-08T06:31:13.785689Z"
    }
   },
   "outputs": [],
   "source": [
    "#logistic regression"
   ]
  },
  {
   "cell_type": "code",
   "execution_count": 51,
   "id": "dd8bac79",
   "metadata": {
    "ExecuteTime": {
     "end_time": "2023-05-08T06:31:14.281403Z",
     "start_time": "2023-05-08T06:31:14.251105Z"
    }
   },
   "outputs": [
    {
     "name": "stdout",
     "output_type": "stream",
     "text": [
      "(1190, 107)\n"
     ]
    }
   ],
   "source": [
    "from sklearn.linear_model import LogisticRegression\n",
    "from sklearn.model_selection import train_test_split\n",
    "X_train, X_test, Y_train, Y_test = train_test_split(X, Y, random_state=100, test_size=0.3)\n",
    "print(X_train.shape)"
   ]
  },
  {
   "cell_type": "code",
   "execution_count": 52,
   "id": "420fa20a",
   "metadata": {
    "ExecuteTime": {
     "end_time": "2023-05-08T06:31:15.193432Z",
     "start_time": "2023-05-08T06:31:14.748740Z"
    }
   },
   "outputs": [
    {
     "data": {
      "text/plain": [
       "LogisticRegression()"
      ]
     },
     "execution_count": 52,
     "metadata": {},
     "output_type": "execute_result"
    }
   ],
   "source": [
    "classifier=LogisticRegression()\n",
    "classifier.fit(X,Y)"
   ]
  },
  {
   "cell_type": "code",
   "execution_count": 53,
   "id": "a11a77b3",
   "metadata": {
    "ExecuteTime": {
     "end_time": "2023-05-08T06:31:18.549558Z",
     "start_time": "2023-05-08T06:31:18.517555Z"
    }
   },
   "outputs": [],
   "source": [
    "Y_pred=classifier.predict(X)"
   ]
  },
  {
   "cell_type": "markdown",
   "id": "dd39d464",
   "metadata": {},
   "source": [
    "Y_pred=classifier.predict(X)"
   ]
  },
  {
   "cell_type": "code",
   "execution_count": 54,
   "id": "02203f8d",
   "metadata": {
    "ExecuteTime": {
     "end_time": "2023-05-08T06:31:19.343501Z",
     "start_time": "2023-05-08T06:31:19.327500Z"
    }
   },
   "outputs": [
    {
     "data": {
      "text/plain": [
       "array([0, 0, 0, ..., 1, 0, 1], dtype=int64)"
      ]
     },
     "execution_count": 54,
     "metadata": {},
     "output_type": "execute_result"
    }
   ],
   "source": [
    "Y_pred"
   ]
  },
  {
   "cell_type": "code",
   "execution_count": 55,
   "id": "ef6883e5",
   "metadata": {
    "ExecuteTime": {
     "end_time": "2023-05-08T06:31:19.812886Z",
     "start_time": "2023-05-08T06:31:19.781547Z"
    }
   },
   "outputs": [],
   "source": [
    "y_pred_df = pd.DataFrame({'actual': Y, 'predicted': Y_pred})"
   ]
  },
  {
   "cell_type": "code",
   "execution_count": 56,
   "id": "0ac0260f",
   "metadata": {
    "ExecuteTime": {
     "end_time": "2023-05-08T06:31:20.319201Z",
     "start_time": "2023-05-08T06:31:20.287188Z"
    }
   },
   "outputs": [
    {
     "data": {
      "text/html": [
       "<div>\n",
       "<style scoped>\n",
       "    .dataframe tbody tr th:only-of-type {\n",
       "        vertical-align: middle;\n",
       "    }\n",
       "\n",
       "    .dataframe tbody tr th {\n",
       "        vertical-align: top;\n",
       "    }\n",
       "\n",
       "    .dataframe thead th {\n",
       "        text-align: right;\n",
       "    }\n",
       "</style>\n",
       "<table border=\"1\" class=\"dataframe\">\n",
       "  <thead>\n",
       "    <tr style=\"text-align: right;\">\n",
       "      <th></th>\n",
       "      <th>actual</th>\n",
       "      <th>predicted</th>\n",
       "    </tr>\n",
       "    <tr>\n",
       "      <th>ID</th>\n",
       "      <th></th>\n",
       "      <th></th>\n",
       "    </tr>\n",
       "  </thead>\n",
       "  <tbody>\n",
       "    <tr>\n",
       "      <th>1</th>\n",
       "      <td>0</td>\n",
       "      <td>0</td>\n",
       "    </tr>\n",
       "    <tr>\n",
       "      <th>2</th>\n",
       "      <td>0</td>\n",
       "      <td>0</td>\n",
       "    </tr>\n",
       "    <tr>\n",
       "      <th>3</th>\n",
       "      <td>0</td>\n",
       "      <td>0</td>\n",
       "    </tr>\n",
       "    <tr>\n",
       "      <th>4</th>\n",
       "      <td>0</td>\n",
       "      <td>0</td>\n",
       "    </tr>\n",
       "    <tr>\n",
       "      <th>5</th>\n",
       "      <td>0</td>\n",
       "      <td>0</td>\n",
       "    </tr>\n",
       "    <tr>\n",
       "      <th>...</th>\n",
       "      <td>...</td>\n",
       "      <td>...</td>\n",
       "    </tr>\n",
       "    <tr>\n",
       "      <th>1696</th>\n",
       "      <td>3</td>\n",
       "      <td>0</td>\n",
       "    </tr>\n",
       "    <tr>\n",
       "      <th>1697</th>\n",
       "      <td>1</td>\n",
       "      <td>0</td>\n",
       "    </tr>\n",
       "    <tr>\n",
       "      <th>1698</th>\n",
       "      <td>6</td>\n",
       "      <td>1</td>\n",
       "    </tr>\n",
       "    <tr>\n",
       "      <th>1699</th>\n",
       "      <td>1</td>\n",
       "      <td>0</td>\n",
       "    </tr>\n",
       "    <tr>\n",
       "      <th>1700</th>\n",
       "      <td>1</td>\n",
       "      <td>1</td>\n",
       "    </tr>\n",
       "  </tbody>\n",
       "</table>\n",
       "<p>1700 rows × 2 columns</p>\n",
       "</div>"
      ],
      "text/plain": [
       "      actual  predicted\n",
       "ID                     \n",
       "1          0          0\n",
       "2          0          0\n",
       "3          0          0\n",
       "4          0          0\n",
       "5          0          0\n",
       "...      ...        ...\n",
       "1696       3          0\n",
       "1697       1          0\n",
       "1698       6          1\n",
       "1699       1          0\n",
       "1700       1          1\n",
       "\n",
       "[1700 rows x 2 columns]"
      ]
     },
     "execution_count": 56,
     "metadata": {},
     "output_type": "execute_result"
    }
   ],
   "source": [
    "y_pred_df"
   ]
  },
  {
   "cell_type": "code",
   "execution_count": 57,
   "id": "968819f8",
   "metadata": {
    "ExecuteTime": {
     "end_time": "2023-05-08T06:31:20.770792Z",
     "start_time": "2023-05-08T06:31:20.746770Z"
    }
   },
   "outputs": [
    {
     "name": "stdout",
     "output_type": "stream",
     "text": [
      "[[1407   13    0    8    1    0    0    0]\n",
      " [  75   29    0    5    1    0    0    0]\n",
      " [  12    5    0    1    0    0    0    0]\n",
      " [  45    4    0    4    1    0    0    0]\n",
      " [  14    4    0    3    2    0    0    0]\n",
      " [  12    0    0    0    0    0    0    0]\n",
      " [  23    2    0    2    0    0    0    0]\n",
      " [  23    3    0    1    0    0    0    0]]\n"
     ]
    }
   ],
   "source": [
    "# Confusion Matrix for the model accuracy\n",
    "from sklearn.metrics import confusion_matrix\n",
    "confusion_matrix = confusion_matrix(Y,Y_pred)\n",
    "print (confusion_matrix)"
   ]
  },
  {
   "cell_type": "code",
   "execution_count": 58,
   "id": "cf550c9a",
   "metadata": {
    "ExecuteTime": {
     "end_time": "2023-05-08T06:31:21.229918Z",
     "start_time": "2023-05-08T06:31:21.214296Z"
    }
   },
   "outputs": [
    {
     "data": {
      "text/plain": [
       "87.6470588235294"
      ]
     },
     "execution_count": 58,
     "metadata": {},
     "output_type": "execute_result"
    }
   ],
   "source": [
    "((1374+116)/(1374+55+155+116)*100)"
   ]
  },
  {
   "cell_type": "code",
   "execution_count": 59,
   "id": "377a5b89",
   "metadata": {
    "ExecuteTime": {
     "end_time": "2023-05-08T06:31:22.341959Z",
     "start_time": "2023-05-08T06:31:21.730481Z"
    }
   },
   "outputs": [
    {
     "data": {
      "image/png": "[encoded data removed]",
      "text/plain": [
       "<Figure size 640x480 with 2 Axes>"
      ]
     },
     "metadata": {},
     "output_type": "display_data"
    }
   ],
   "source": [
    "sns.heatmap(confusion_matrix , annot=True, fmt='d')\n",
    "plt.xlabel('Predicted')\n",
    "plt.ylabel('Actual')\n",
    "plt.title('Confusion Matrix')\n",
    "plt.show()"
   ]
  },
  {
   "cell_type": "code",
   "execution_count": 60,
   "id": "f0f02fcb",
   "metadata": {
    "ExecuteTime": {
     "end_time": "2023-05-08T06:31:22.380564Z",
     "start_time": "2023-05-08T06:31:22.341959Z"
    }
   },
   "outputs": [
    {
     "data": {
      "text/plain": [
       "array([[0.91355722, 0.0195082 , 0.00646206, ..., 0.00254413, 0.01595571,\n",
       "        0.00580864],\n",
       "       [0.96325466, 0.00900304, 0.00207701, ..., 0.00178188, 0.00939619,\n",
       "        0.00740459],\n",
       "       [0.74484384, 0.05083758, 0.01161611, ..., 0.01536909, 0.03679829,\n",
       "        0.05570486],\n",
       "       ...,\n",
       "       [0.34046821, 0.48809996, 0.02499592, ..., 0.0124134 , 0.04917142,\n",
       "        0.06966223],\n",
       "       [0.66223122, 0.09044047, 0.02412572, ..., 0.00419282, 0.04087961,\n",
       "        0.01986333],\n",
       "       [0.16834054, 0.67263626, 0.02855286, ..., 0.0182798 , 0.03127127,\n",
       "        0.04235541]])"
      ]
     },
     "execution_count": 60,
     "metadata": {},
     "output_type": "execute_result"
    }
   ],
   "source": [
    "classifier.predict_proba(X)"
   ]
  },
  {
   "cell_type": "code",
   "execution_count": 61,
   "id": "b3201219",
   "metadata": {
    "ExecuteTime": {
     "end_time": "2023-05-08T06:31:23.030355Z",
     "start_time": "2023-05-08T06:31:23.006336Z"
    }
   },
   "outputs": [],
   "source": [
    "from sklearn.metrics import roc_curve\n",
    "from sklearn.metrics import roc_auc_score"
   ]
  },
  {
   "cell_type": "markdown",
   "id": "54dc5889",
   "metadata": {
    "ExecuteTime": {
     "end_time": "2023-05-08T06:31:23.796089Z",
     "start_time": "2023-05-08T06:31:23.725896Z"
    }
   },
   "source": [
    "fpr, tpr, thesholds = roc_curve(Y, classifier.predict_proba (X)[:,1])\n",
    "auc = roc_auc_score(Y, Y_pred)\n",
    "#fpr=false positive rate,trp=true positive rate\n",
    "\n",
    "import matplotlib.pyplot as plt\n",
    "plt.plot(fpr, tpr, color='red', label='logit model')\n",
    "plt.plot([0, 1], [0, 1], 'k--')\n",
    "plt.xlabel('False Positive Rate or [1 - True Negative Rate]')\n",
    "plt.ylabel('True Positive Rate')\n",
    "plt.legend()\n",
    "plt.show()"
   ]
  },
  {
   "cell_type": "code",
   "execution_count": 63,
   "id": "74a7dfe0",
   "metadata": {
    "ExecuteTime": {
     "end_time": "2023-05-08T06:32:53.651962Z",
     "start_time": "2023-05-08T06:32:53.611644Z"
    }
   },
   "outputs": [
    {
     "name": "stdout",
     "output_type": "stream",
     "text": [
      "              precision    recall  f1-score   support\n",
      "\n",
      "           0       0.87      0.98      0.93      1429\n",
      "           1       0.48      0.26      0.34       110\n",
      "           2       0.00      0.00      0.00        18\n",
      "           3       0.17      0.07      0.10        54\n",
      "           4       0.40      0.09      0.14        23\n",
      "           5       0.00      0.00      0.00        12\n",
      "           6       0.00      0.00      0.00        27\n",
      "           7       0.00      0.00      0.00        27\n",
      "\n",
      "    accuracy                           0.85      1700\n",
      "   macro avg       0.24      0.18      0.19      1700\n",
      "weighted avg       0.78      0.85      0.81      1700\n",
      "\n"
     ]
    }
   ],
   "source": [
    "from sklearn.metrics import classification_report\n",
    "print(classification_report(Y,Y_pred))"
   ]
  },
  {
   "cell_type": "code",
   "execution_count": 64,
   "id": "ce2b6e57",
   "metadata": {
    "ExecuteTime": {
     "end_time": "2023-05-08T06:33:18.290012Z",
     "start_time": "2023-05-08T06:33:17.920688Z"
    }
   },
   "outputs": [],
   "source": [
    "#svm\n",
    "from sklearn.svm import SVC\n",
    "svm = SVC(kernel = \"linear\", C = 0.025, random_state = 101)\n",
    "svm.fit(X_train, Y_train)\n",
    "Y_pred = svm.predict(X_test)\n"
   ]
  },
  {
   "cell_type": "code",
   "execution_count": 65,
   "id": "f35e9d18",
   "metadata": {
    "ExecuteTime": {
     "end_time": "2023-05-08T06:33:18.698295Z",
     "start_time": "2023-05-08T06:33:18.674274Z"
    }
   },
   "outputs": [
    {
     "name": "stdout",
     "output_type": "stream",
     "text": [
      "[[428   0   0   0   0   0   0   0]\n",
      " [ 36   1   0   0   0   0   0   0]\n",
      " [  7   0   0   0   0   0   0   0]\n",
      " [ 16   0   0   0   0   0   0   0]\n",
      " [  4   0   0   0   0   0   0   0]\n",
      " [  1   0   0   0   0   0   0   0]\n",
      " [ 10   0   0   0   0   0   0   0]\n",
      " [  7   0   0   0   0   0   0   0]]\n"
     ]
    }
   ],
   "source": [
    "from sklearn.metrics import confusion_matrix\n",
    "cm = confusion_matrix(Y_test, Y_pred)\n",
    "print(cm)"
   ]
  },
  {
   "cell_type": "code",
   "execution_count": 66,
   "id": "c2382c00",
   "metadata": {
    "ExecuteTime": {
     "end_time": "2023-05-08T06:33:19.206282Z",
     "start_time": "2023-05-08T06:33:19.190281Z"
    }
   },
   "outputs": [
    {
     "data": {
      "text/plain": [
       "87.45098039215686"
      ]
     },
     "execution_count": 66,
     "metadata": {},
     "output_type": "execute_result"
    }
   ],
   "source": [
    "((426+20)/(426+2+62+20)*100)"
   ]
  },
  {
   "cell_type": "code",
   "execution_count": 67,
   "id": "125752a2",
   "metadata": {
    "ExecuteTime": {
     "end_time": "2023-05-08T06:33:20.356792Z",
     "start_time": "2023-05-08T06:33:19.764796Z"
    }
   },
   "outputs": [
    {
     "data": {
      "image/png": "[encoded data removed]",
      "text/plain": [
       "<Figure size 640x480 with 2 Axes>"
      ]
     },
     "metadata": {},
     "output_type": "display_data"
    }
   ],
   "source": [
    "import seaborn as sns\n",
    "import matplotlib.pyplot as plt\n",
    "sns.heatmap(cm, annot=True, cmap=\"Blues\")\n",
    "plt.xlabel('Predicted')\n",
    "plt.ylabel('Actual')\n",
    "plt.title('Confusion Matrix')\n",
    "plt.show()"
   ]
  },
  {
   "cell_type": "code",
   "execution_count": 68,
   "id": "411a762c",
   "metadata": {
    "ExecuteTime": {
     "end_time": "2023-05-08T06:33:20.994310Z",
     "start_time": "2023-05-08T06:33:20.970289Z"
    }
   },
   "outputs": [],
   "source": [
    "#Navie Bayes\n",
    "import pandas as pd\n",
    "from sklearn.naive_bayes import GaussianNB\n",
    "from sklearn.metrics import accuracy_score\n",
    "from sklearn.model_selection import train_test_split"
   ]
  },
  {
   "cell_type": "code",
   "execution_count": 69,
   "id": "306a794e",
   "metadata": {
    "ExecuteTime": {
     "end_time": "2023-05-08T06:33:29.112181Z",
     "start_time": "2023-05-08T06:33:29.088383Z"
    }
   },
   "outputs": [],
   "source": [
    "X_train, X_test, Y_train, Y_test = train_test_split(X,Y,test_size=0.5, random_state=101)"
   ]
  },
  {
   "cell_type": "code",
   "execution_count": 70,
   "id": "d86a4520",
   "metadata": {
    "ExecuteTime": {
     "end_time": "2023-05-08T06:33:29.698664Z",
     "start_time": "2023-05-08T06:33:29.674668Z"
    }
   },
   "outputs": [],
   "source": [
    "# Create an instance of the Gaussian Naive Bayes model\n",
    "nb = GaussianNB()"
   ]
  },
  {
   "cell_type": "code",
   "execution_count": 71,
   "id": "30ca8ea0",
   "metadata": {
    "ExecuteTime": {
     "end_time": "2023-05-08T06:33:30.137457Z",
     "start_time": "2023-05-08T06:33:30.091993Z"
    }
   },
   "outputs": [
    {
     "data": {
      "text/plain": [
       "GaussianNB()"
      ]
     },
     "execution_count": 71,
     "metadata": {},
     "output_type": "execute_result"
    }
   ],
   "source": [
    "nb.fit(X_train,Y_train)"
   ]
  },
  {
   "cell_type": "code",
   "execution_count": 72,
   "id": "97041ce4",
   "metadata": {
    "ExecuteTime": {
     "end_time": "2023-05-08T06:33:30.662893Z",
     "start_time": "2023-05-08T06:33:30.622225Z"
    }
   },
   "outputs": [],
   "source": [
    "Y_pred=nb.predict(X_train)"
   ]
  },
  {
   "cell_type": "code",
   "execution_count": 73,
   "id": "5c6d16f0",
   "metadata": {
    "ExecuteTime": {
     "end_time": "2023-05-08T06:33:31.299576Z",
     "start_time": "2023-05-08T06:33:31.275577Z"
    }
   },
   "outputs": [
    {
     "name": "stdout",
     "output_type": "stream",
     "text": [
      "[[ 82  80  88  66  64 167  62 109]\n",
      " [  5   6   9   6   6  15   5   3]\n",
      " [  0   1   2   1   0   2   1   2]\n",
      " [  2   3   2   3   5   7   1   3]\n",
      " [  3   1   1   0   0   2   4   2]\n",
      " [  1   0   1   1   0   1   0   1]\n",
      " [  0   1   4   0   2   4   1   2]\n",
      " [  0   0   2   0   1   4   1   2]]\n"
     ]
    }
   ],
   "source": [
    "cm = confusion_matrix(Y_test, Y_pred)\n",
    "print(cm)"
   ]
  },
  {
   "cell_type": "code",
   "execution_count": 74,
   "id": "3f96f7b1",
   "metadata": {
    "ExecuteTime": {
     "end_time": "2023-05-08T06:33:31.989992Z",
     "start_time": "2023-05-08T06:33:31.973989Z"
    }
   },
   "outputs": [
    {
     "data": {
      "text/plain": [
       "25.294117647058822"
      ]
     },
     "execution_count": 74,
     "metadata": {},
     "output_type": "execute_result"
    }
   ],
   "source": [
    "((98+117)/(98+620+15+117)*100)"
   ]
  },
  {
   "cell_type": "code",
   "execution_count": 75,
   "id": "fc80c12e",
   "metadata": {
    "ExecuteTime": {
     "end_time": "2023-05-08T06:33:32.992359Z",
     "start_time": "2023-05-08T06:33:32.976356Z"
    }
   },
   "outputs": [
    {
     "name": "stdout",
     "output_type": "stream",
     "text": [
      "Accuracy:  0.11411764705882353\n"
     ]
    }
   ],
   "source": [
    "print('Accuracy: ', accuracy_score(Y_test, Y_pred))"
   ]
  },
  {
   "cell_type": "code",
   "execution_count": 76,
   "id": "8e0d4f81",
   "metadata": {
    "ExecuteTime": {
     "end_time": "2023-05-08T06:33:44.366565Z",
     "start_time": "2023-05-08T06:33:43.738928Z"
    }
   },
   "outputs": [
    {
     "data": {
      "image/png": "[encoded data removed]",
      "text/plain": [
       "<Figure size 640x480 with 2 Axes>"
      ]
     },
     "metadata": {},
     "output_type": "display_data"
    }
   ],
   "source": [
    "import seaborn as sns\n",
    "import matplotlib.pyplot as plt\n",
    "sns.heatmap(cm, annot=True, cmap=\"Blues\")\n",
    "plt.xlabel('Predicted')\n",
    "plt.ylabel('Actual')\n",
    "plt.title('Confusion Matrix')\n",
    "plt.show()"
   ]
  },
  {
   "cell_type": "code",
   "execution_count": null,
   "id": "de9b34e2",
   "metadata": {},
   "outputs": [],
   "source": []
  },
  {
   "cell_type": "code",
   "execution_count": null,
   "id": "d32ab9f8",
   "metadata": {},
   "outputs": [],
   "source": []
  }
 ],
 "metadata": {
  "kernelspec": {
   "display_name": "Python 3 (ipykernel)",
   "language": "python",
   "name": "python3"
  },
  "language_info": {
   "codemirror_mode": {
    "name": "ipython",
    "version": 3
   },
   "file_extension": ".py",
   "mimetype": "text/x-python",
   "name": "python",
   "nbconvert_exporter": "python",
   "pygments_lexer": "ipython3",
   "version": "3.9.13"
  }
 },
 "nbformat": 4,
 "nbformat_minor": 5
}
