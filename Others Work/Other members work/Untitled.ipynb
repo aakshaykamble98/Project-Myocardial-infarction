{
 "cells": [
  {
   "cell_type": "code",
   "execution_count": null,
   "id": "d820ae8f",
   "metadata": {},
   "outputs": [],
   "source": [
    "#Apply SMOTE to the training set\n",
    "\n",
    "from imblearn.over_sampling import SMOTE\n",
    "\n",
    "smote = SMOTE(random_state=42, sampling_strategy='auto')\n",
    "x_train_resampled, y_train_resampled = smote.fit_resample(xtrain, ytrain)\n",
    "\n",
    "# Perform feature scaling on the resampled training data\n",
    "scaler = StandardScaler()\n",
    "X_train_scaled = scaler.fit_transform(x_train_resampled)\n",
    "\n",
    "# Apply PCA for dimensional reduction on the scaled training data\n",
    "pca = PCA(n_components=0.95, random_state=42)\n",
    "X_train_pca = pca.fit_transform(X_train_scaled)\n",
    "\n",
    "# Create a dataframe of PCA results for the training data\n",
    "pca_columns = [f'pc{i+1}' for i in range(X_train_pca.shape[1])]\n",
    "pca_df = pd.DataFrame(X_train_pca, columns=pca_columns)\n",
    "pca_df\n",
    "\n",
    "# Apply Lasso regularization on the PCA dataframe\n",
    "lasso = Lasso(alpha=0.1)  # Adjust the regularization parameter alpha as per your needs\n",
    "lasso.fit(pca_df, y_train_resampled)\n",
    "\n",
    "# Filter the PCA components based on non-zero coefficients from Lasso regularization\n",
    "selected_features = lasso.coef_ != 0\n",
    "pca_df_selected = pca_df.loc[:, selected_features]\n",
    "\n",
    "# Create a dataframe with the selected PCA components and target column\n",
    "final_df = pd.concat([pca_df_selected, pd.Series(y_train_resampled, name='LET_IS')], axis=1)\n",
    "\n",
    "# Replace the column names in final_df with the original dataset feature names\n",
    "original_feature_names = [x.columns[i] for i, is_selected in enumerate(selected_features) if is_selected]\n",
    "final_df.columns = list(original_feature_names) + ['LET_IS']\n",
    "\n",
    "i have"
   ]
  },
  {
   "cell_type": "code",
   "execution_count": null,
   "id": "7cf0d641",
   "metadata": {},
   "outputs": [],
   "source": [
    "missing_percentages = df.isna().mean() * 100\n",
    "result_df = pd.DataFrame({'column_name': missing_percentages.index, \n",
    "                          'Number of missing values': df.isna().sum(),\n",
    "                          'percent_missing': missing_percentages.values})\n",
    "print(result_df)\n",
    "\n",
    "#Get the columns that have more than 30% missing values\n",
    "cols_with_more_than_30percent_missing = result_df[result_df['percent_missing'] > 30]['column_name']\n",
    "\n",
    "#Print the result\n",
    "print(cols_with_more_than_30percent_missing)\n",
    "\n",
    "df.drop(columns=cols_with_more_than_30percent_missing, inplace=True)\n",
    "df\n",
    "\n",
    "# Drop Columns of Myocardial Infraction Outcomes\n",
    "columns_to_drop = ['FIBR_PREDS', 'PREDS_TAH', 'JELUD_TAH', 'FIBR_JELUD', 'A_V_BLOK', 'OTEK_LANC', 'RAZRIV', 'DRESSLER', 'ZSN', 'REC_IM', 'P_IM_STEN']\n",
    "df = df.drop(columns_to_drop, axis=1)\n",
    "\n",
    "# missing values per row (selected column threshold: 30%)\n",
    "row_list = []\n",
    "for i in range(df.shape[0]):\n",
    "    n_miss = df.iloc[i].isnull().sum()\n",
    "    perc = n_miss / df.shape[1] * 100\n",
    "    # print('> %d, Missing: %d (%.1f%%)' % (i, n_miss, perc))\n",
    "    if perc >= 30:\n",
    "        row_list.append(i)\n",
    "\n",
    "df.drop(row_list, inplace=True)\n",
    "df\n",
    "\n",
    "# Create an instance of SimpleImputer with strategy='most_frequent'\n",
    "imputer = SimpleImputer(strategy='most_frequent')\n",
    "# Fill missing values in your DataFrame with the mode\n",
    "x_filled = imputer.fit_transform(df)\n",
    "# Convert the filled array back to a DataFrame\n",
    "df = pd.DataFrame(x_filled, columns=df.columns)\n",
    "df\n",
    "\n"
   ]
  },
  {
   "cell_type": "code",
   "execution_count": null,
   "id": "0a3ab3db",
   "metadata": {},
   "outputs": [],
   "source": [
    "# Create a dataframe with the selected PCA components and target column\n",
    "final_df = pd.DataFrame(X_pca_selected, columns=[f'pc{i+1}' for i in range(X_pca_selected.shape[1])])\n",
    "final_df[\"LET_IS\"] = y_resampled"
   ]
  },
  {
   "cell_type": "code",
   "execution_count": null,
   "id": "8a7041e7",
   "metadata": {},
   "outputs": [],
   "source": []
  }
 ],
 "metadata": {
  "kernelspec": {
   "display_name": "Python 3 (ipykernel)",
   "language": "python",
   "name": "python3"
  },
  "language_info": {
   "codemirror_mode": {
    "name": "ipython",
    "version": 3
   },
   "file_extension": ".py",
   "mimetype": "text/x-python",
   "name": "python",
   "nbconvert_exporter": "python",
   "pygments_lexer": "ipython3",
   "version": "3.9.13"
  }
 },
 "nbformat": 4,
 "nbformat_minor": 5
}
